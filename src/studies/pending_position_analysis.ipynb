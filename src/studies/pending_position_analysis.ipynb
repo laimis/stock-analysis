{
 "cells": [
  {
   "cell_type": "code",
   "execution_count": null,
   "id": "e4ddb28e-c64c-4735-8f95-96006e6c15f2",
   "metadata": {
    "tags": []
   },
   "outputs": [],
   "source": [
    "import pandas as pd"
   ]
  },
  {
   "cell_type": "code",
   "execution_count": null,
   "id": "23716e01-7ca0-4293-a452-50fa9d7c2ed4",
   "metadata": {
    "tags": []
   },
   "outputs": [],
   "source": [
    "df = pd.read_csv(\"C:\\\\Users\\\\laimi\\\\Downloads\\\\pendingpositions_20240816_043004.csv\")"
   ]
  },
  {
   "cell_type": "code",
   "execution_count": null,
   "id": "a3b92a0d-fc1e-41e7-9270-d6dec093ccd4",
   "metadata": {
    "tags": []
   },
   "outputs": [],
   "source": [
    "# Check for missing values\n",
    "print(df.isnull().sum())\n",
    "print(df.describe())\n",
    "print(df.info())"
   ]
  },
  {
   "cell_type": "code",
   "execution_count": null,
   "id": "dd85f79f-668a-4bb4-8caa-cda8ca052de9",
   "metadata": {
    "tags": []
   },
   "outputs": [],
   "source": [
    "# clean step\n",
    "\n",
    "# number of rows before clean\n",
    "print(f\"number of rows before clean: {len(df)}\")\n",
    "\n",
    "df_cleaned = df.dropna(subset=\"StopPrice\").copy()\n",
    "\n",
    "# convert rows to proper types\n",
    "df_cleaned[\"Created\"] = pd.to_datetime(df_cleaned[\"Created\"])\n",
    "df_cleaned[\"Closed\"] = pd.to_datetime(df_cleaned[\"Closed\"])\n",
    "df_cleaned[\"PositionSize\"] = df_cleaned['NumberOfShares'] * df_cleaned[\"Bid\"]\n",
    "df_cleaned[\"StopPricePct\"] = ((df_cleaned[\"StopPrice\"] - df_cleaned[\"Bid\"])/df_cleaned[\"Bid\"])*100\n",
    "\n",
    "# split into longs and shorts\n",
    "longs = df_cleaned[df_cleaned[\"NumberOfShares\"] > 0].copy()\n",
    "shorts = df_cleaned[df_cleaned[\"NumberOfShares\"] < 0].copy()\n",
    "\n",
    "longs_purchased = longs[longs[\"Purchased\"]==1]\n",
    "\n",
    "print(f\"number of rows after clean: {len(df_cleaned)}\")\n",
    "print(f\"number of longs: {len(longs)}\")\n",
    "print(f\"number of purchased longs: {len(longs_purchased)}\")\n",
    "print(f\"number of shorts: {len(shorts)}\")"
   ]
  },
  {
   "cell_type": "code",
   "execution_count": null,
   "id": "385309a1-aaeb-4a58-81ce-7085a31acb3e",
   "metadata": {
    "tags": []
   },
   "outputs": [],
   "source": [
    "print(\"NOTE: the next set of analysis is on long positions\")\n",
    "\n",
    "total_positions = len(longs)\n",
    "print(f\"Total positions: {total_positions}\")\n",
    "\n",
    "num_days = (longs['Created'].max() - longs['Created'].min()).days\n",
    "print(f\"Spanning {num_days} Number of days\")\n",
    "\n",
    "purchased_positions = longs['Purchased'].sum()\n",
    "purchased_percentage = (purchased_positions / total_positions) * 100\n",
    "print(f\"% Purchased: {purchased_positions} ({purchased_percentage:.2f}%)\")"
   ]
  },
  {
   "cell_type": "code",
   "execution_count": null,
   "id": "9bb59e78-58fd-4298-8db0-d3e3f01f19b0",
   "metadata": {
    "tags": []
   },
   "outputs": [],
   "source": [
    "\n",
    "print(f'Average size of positions: {longs[\"PositionSize\"].mean():.2f}')\n",
    "print(f'Max position size: {longs[\"PositionSize\"].max():.2f}')\n",
    "print(f'Min position size: {longs[\"PositionSize\"].min():.2f}')\n",
    "\n",
    "longs['rolling_average_size'] = longs[\"PositionSize\"].rolling(window=30).mean()\n",
    "\n",
    "import matplotlib.pyplot as plt\n",
    "import seaborn as sns\n",
    "\n",
    "plt.figure(figsize=(12, 6))\n",
    "sns.lineplot(data=longs, x='Created', y='rolling_average_size')\n",
    "plt.title('Rolling Average Size of Positions Over Time')\n",
    "plt.xlabel('Date')\n",
    "plt.ylabel('Average Size of Positions')\n",
    "plt.show()\n",
    "\n",
    "# Plot the distribution of position sizes\n",
    "plt.figure(figsize=(12, 6))\n",
    "sns.histplot(longs[\"PositionSize\"], bins=30, kde=True)\n",
    "plt.title('Distribution of Position Sizes')\n",
    "plt.xlabel('Position Size')\n",
    "plt.ylabel('Frequency')\n",
    "plt.show()\n",
    "\n",
    "# plot the distribution of purchased position sizes\n",
    "plt.figure(figsize=(12, 6))\n",
    "sns.histplot(longs_purchased[\"PositionSize\"], bins=30, kde=True)\n",
    "plt.title('Distribution of Position Sizes of Purchased Positions')\n",
    "plt.xlabel('Position Size')\n",
    "plt.ylabel('Frequency')\n",
    "plt.show()"
   ]
  },
  {
   "cell_type": "code",
   "execution_count": null,
   "id": "a9575dd4-6ef5-4f9f-9fe2-56807a2d77a2",
   "metadata": {
    "tags": []
   },
   "outputs": [],
   "source": [
    "# List the top 10 largest position rows\n",
    "largest_positions = longs.nlargest(10, [\"PositionSize\"])\n",
    "print(\"\\nTop 10 Largest Positions:\")\n",
    "largest_positions[[\"Ticker\",\"Created\",\"Bid\",\"StopPrice\",\"StopPricePct\",\"Strategy\",\"Purchased\",\"PositionSize\"]]"
   ]
  },
  {
   "cell_type": "code",
   "execution_count": null,
   "id": "787a0a73-aedf-4ac1-8934-af2f9b8dc0fc",
   "metadata": {
    "tags": []
   },
   "outputs": [],
   "source": [
    "# List the top 10 largest position rows that were purchased\n",
    "largest_positions = longs_purchased.nlargest(20, [\"PositionSize\"])\n",
    "print(\"\\nTop 10 Largest Positions:\")\n",
    "largest_positions[[\"Ticker\",\"Created\",\"Bid\", \"NumberOfShares\",\"StopPrice\",\"StopPricePct\",\"Strategy\",\"Purchased\",\"PositionSize\"]]"
   ]
  },
  {
   "cell_type": "code",
   "execution_count": null,
   "id": "7dad466d-c75d-41fb-9c13-e71c7bf570ea",
   "metadata": {
    "tags": []
   },
   "outputs": [],
   "source": [
    "smallest_positions = longs.nsmallest(10, [\"PositionSize\"])\n",
    "print(\"\\nTop 10 Smallest Positions:\")\n",
    "smallest_positions[[\"Ticker\",\"Created\",\"Bid\",\"StopPrice\",\"StopPricePct\",\"Strategy\",\"Purchased\",\"PositionSize\"]]"
   ]
  },
  {
   "cell_type": "code",
   "execution_count": null,
   "id": "2749227a-ed53-4e64-9f3f-1adeccdc5b31",
   "metadata": {
    "tags": []
   },
   "outputs": [],
   "source": [
    "longs['Duration'] = (longs['Closed'] - longs['Created']).dt.days\n",
    "avg_duration_purchased = longs[longs['Purchased'] == 1]['Duration'].mean()\n",
    "avg_duration_not_purchased = longs[longs['Purchased'] == 0]['Duration'].mean()\n",
    "max_duration_purchased = longs[longs['Purchased'] == 1]['Duration'].max()\n",
    "\n",
    "print(f\"Average duration for purchased positions: {avg_duration_purchased:.2f} days\")\n",
    "print(f\"Average duration for not purchased positions: {avg_duration_not_purchased:.2f} days\")\n",
    "print(f\"Max duration for not purchased positions: {max_duration_purchased:.2f} days\")"
   ]
  },
  {
   "cell_type": "code",
   "execution_count": null,
   "id": "443410c8-6ca7-4ab9-8ef8-23b3b379c33d",
   "metadata": {
    "tags": []
   },
   "outputs": [],
   "source": [
    "avg_stop_loss_all = df['StopPrice'].mean()\n",
    "avg_stop_loss_purchased = df[df['Purchased'] == 1]['StopPrice'].mean()\n",
    "avg_stop_loss_not_purchased = df[df['Purchased'] == 0]['StopPrice'].mean()\n",
    "\n",
    "print(f\"Average stop loss for all positions: {avg_stop_loss_all:.2f}\")\n",
    "print(f\"Average stop loss for purchased positions: {avg_stop_loss_purchased:.2f}\")\n",
    "print(f\"Average stop loss for not purchased positions: {avg_stop_loss_not_purchased:.2f}\")"
   ]
  },
  {
   "cell_type": "code",
   "execution_count": null,
   "id": "36ff509c-5251-4c07-92e6-cf7210984739",
   "metadata": {},
   "outputs": [],
   "source": []
  }
 ],
 "metadata": {
  "kernelspec": {
   "display_name": "Python 3 (ipykernel)",
   "language": "python",
   "name": "python3"
  },
  "language_info": {
   "codemirror_mode": {
    "name": "ipython",
    "version": 3
   },
   "file_extension": ".py",
   "mimetype": "text/x-python",
   "name": "python",
   "nbconvert_exporter": "python",
   "pygments_lexer": "ipython3",
   "version": "3.11.5"
  }
 },
 "nbformat": 4,
 "nbformat_minor": 5
}
