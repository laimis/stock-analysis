{
 "cells": [
  {
   "cell_type": "code",
   "execution_count": null,
   "id": "e4ddb28e-c64c-4735-8f95-96006e6c15f2",
   "metadata": {
    "tags": []
   },
   "outputs": [],
   "source": [
    "import pandas as pd"
   ]
  },
  {
   "cell_type": "code",
   "execution_count": null,
   "id": "23716e01-7ca0-4293-a452-50fa9d7c2ed4",
   "metadata": {
    "tags": []
   },
   "outputs": [],
   "source": [
    "df = pd.read_csv(\"C:\\\\Users\\\\laimi\\\\Downloads\\\\pendingpositions_20240816_043004.csv\")"
   ]
  },
  {
   "cell_type": "code",
   "execution_count": null,
   "id": "a3b92a0d-fc1e-41e7-9270-d6dec093ccd4",
   "metadata": {
    "tags": []
   },
   "outputs": [],
   "source": [
    "# Check for missing values\n",
    "print(\"checking for null values\")\n",
    "print(df.isnull().sum())\n",
    "\n",
    "print(\"\\ndescribing the data set to make sure statistical values are as expected\")\n",
    "print(df.describe())\n",
    "\n",
    "print(\"\\ninfo for the dataset to make sure data types are appropriate\")\n",
    "print(df.info())"
   ]
  },
  {
   "cell_type": "code",
   "execution_count": null,
   "id": "dd85f79f-668a-4bb4-8caa-cda8ca052de9",
   "metadata": {
    "tags": []
   },
   "outputs": [],
   "source": [
    "# clean step\n",
    "print(\"Cleaning up dataset, adding calculated columns\")\n",
    "\n",
    "# number of rows before clean\n",
    "print(f\"number of rows before clean: {len(df)}\")\n",
    "\n",
    "df_cleaned = df.dropna(subset=\"StopPrice\").copy()\n",
    "\n",
    "# convert rows to proper types\n",
    "df_cleaned[\"Created\"] = pd.to_datetime(df_cleaned[\"Created\"])\n",
    "df_cleaned[\"Closed\"] = pd.to_datetime(df_cleaned[\"Closed\"])\n",
    "df_cleaned[\"PositionSize\"] = df_cleaned['NumberOfShares'] * df_cleaned[\"Bid\"]\n",
    "df_cleaned[\"StopPricePct\"] = ((df_cleaned[\"StopPrice\"] - df_cleaned[\"Bid\"])/df_cleaned[\"Bid\"])*100\n",
    "df_cleaned[\"StopLossAmount\"] = (df_cleaned[\"StopPrice\"] - df_cleaned[\"Bid\"])*df_cleaned[\"NumberOfShares\"]\n",
    "df_cleaned['Duration'] = (df_cleaned['Closed'] - df_cleaned['Created']).dt.days\n",
    "\n",
    "print(f\"number of rows after clean: {len(df_cleaned)}\")"
   ]
  },
  {
   "cell_type": "code",
   "execution_count": null,
   "id": "234333e8-7446-4f62-a92e-8e8c3d85365e",
   "metadata": {
    "tags": []
   },
   "outputs": [],
   "source": [
    "print(\"the same summary information but now on cleaned data\")\n",
    "\n",
    "print(\"\\ndescribing the data set to make sure statistical values are as expected\")\n",
    "print(df_cleaned.describe())\n",
    "\n",
    "print(\"\\ninfo for the dataset to make sure data types are appropriate\")\n",
    "print(df_cleaned.info())"
   ]
  },
  {
   "cell_type": "code",
   "execution_count": null,
   "id": "385309a1-aaeb-4a58-81ce-7085a31acb3e",
   "metadata": {
    "tags": []
   },
   "outputs": [],
   "source": [
    "print(\"Splitting positions into longs and shorts\")\n",
    "\n",
    "# split into longs and shorts\n",
    "longs = df_cleaned[df_cleaned[\"NumberOfShares\"] > 0].copy()\n",
    "shorts = df_cleaned[df_cleaned[\"NumberOfShares\"] < 0].copy()\n",
    "\n",
    "longs_purchased = longs[longs[\"Purchased\"]==1]\n",
    "shorts_purchased = shorts[shorts[\"Purchased\"]==1]\n",
    "\n",
    "print(f\"Number of longs: {len(longs)}\")\n",
    "purchased_positions_longs = longs['Purchased'].sum()\n",
    "total_long_positions = len(longs)\n",
    "purchased_percentage_longs = (purchased_positions_longs / total_long_positions) * 100\n",
    "print(f\"% of Longs purchased: {purchased_positions_longs} ({purchased_percentage_longs:.2f}%)\")\n",
    "num_days_longs = (longs['Created'].max() - longs['Created'].min()).days\n",
    "print(f\"Longs spanning {num_days_longs} Number of days\")\n",
    "\n",
    "\n",
    "print(f\"\\nnumber of shorts: {len(shorts)}\")\n",
    "purchased_positions_shorts = shorts['Purchased'].sum()\n",
    "total_short_positions = len(shorts)\n",
    "purchased_percentage_shorts = (purchased_positions_shorts / total_short_positions) * 100\n",
    "print(f\"% of Shorts purchased: {purchased_positions_shorts} ({purchased_percentage_shorts:.2f}%)\")\n",
    "num_days_short = (shorts['Created'].max() - shorts['Created'].min()).days\n",
    "print(f\"Shorts spanning {num_days_short} Number of days\")\n",
    "\n"
   ]
  },
  {
   "cell_type": "code",
   "execution_count": null,
   "id": "9bb59e78-58fd-4298-8db0-d3e3f01f19b0",
   "metadata": {
    "tags": []
   },
   "outputs": [],
   "source": [
    "print(\"From this point forward, analyzing longs only\\n\")\n",
    "\n",
    "print(f'Average size of positions: {longs[\"PositionSize\"].mean():.2f}')\n",
    "print(f'Max position size: {longs[\"PositionSize\"].max():.2f}')\n",
    "print(f'Min position size: {longs[\"PositionSize\"].min():.2f}')\n",
    "\n",
    "longs['rolling_average_size'] = longs[\"PositionSize\"].rolling(window=30).mean()\n",
    "\n",
    "import matplotlib.pyplot as plt\n",
    "import seaborn as sns\n",
    "\n",
    "plt.figure(figsize=(12, 6))\n",
    "sns.lineplot(data=longs, x='Created', y='rolling_average_size')\n",
    "plt.title('Rolling Average Size of Positions Over Time')\n",
    "plt.xlabel('Date')\n",
    "plt.ylabel('Average Size of Positions')\n",
    "plt.show()\n",
    "\n",
    "# Plot the distribution of position sizes\n",
    "plt.figure(figsize=(12, 6))\n",
    "sns.histplot(longs[\"PositionSize\"], bins=30, kde=True)\n",
    "plt.title('Distribution of Position Sizes')\n",
    "plt.xlabel('Position Size')\n",
    "plt.ylabel('Frequency')\n",
    "plt.show()\n",
    "\n",
    "# plot the distribution of purchased position sizes\n",
    "plt.figure(figsize=(12, 6))\n",
    "sns.histplot(longs_purchased[\"PositionSize\"], bins=30, kde=True)\n",
    "plt.title('Distribution of Position Sizes of Purchased Positions')\n",
    "plt.xlabel('Position Size')\n",
    "plt.ylabel('Frequency')\n",
    "plt.show()"
   ]
  },
  {
   "cell_type": "code",
   "execution_count": null,
   "id": "a9575dd4-6ef5-4f9f-9fe2-56807a2d77a2",
   "metadata": {
    "tags": []
   },
   "outputs": [],
   "source": [
    "columns_of_interest = [\"Ticker\",\"PositionSize\",\"Created\",\"Bid\",\"StopPrice\",\"StopPricePct\",\"StopLossAmount\",\"Strategy\",\"Purchased\",\"Duration\"]\n",
    "\n",
    "# List the top 10 largest position rows\n",
    "largest_positions = longs.nlargest(10, [\"PositionSize\"])\n",
    "print(\"\\nTop 10 Largest Positions:\")\n",
    "largest_positions[columns_of_interest]"
   ]
  },
  {
   "cell_type": "code",
   "execution_count": null,
   "id": "787a0a73-aedf-4ac1-8934-af2f9b8dc0fc",
   "metadata": {
    "tags": []
   },
   "outputs": [],
   "source": [
    "# List the top 10 largest position rows that were purchased\n",
    "largest_positions = longs_purchased.nlargest(20, [\"PositionSize\"])\n",
    "print(\"\\nTop 10 Largest Purchased Positions:\")\n",
    "largest_positions[columns_of_interest]"
   ]
  },
  {
   "cell_type": "code",
   "execution_count": null,
   "id": "7dad466d-c75d-41fb-9c13-e71c7bf570ea",
   "metadata": {
    "tags": []
   },
   "outputs": [],
   "source": [
    "smallest_positions = longs.nsmallest(10, [\"PositionSize\"])\n",
    "print(\"\\nTop 10 Smallest Positions:\")\n",
    "smallest_positions[columns_of_interest]"
   ]
  },
  {
   "cell_type": "code",
   "execution_count": null,
   "id": "6f4d849e-2de3-4433-bce5-7a0993d07581",
   "metadata": {
    "tags": []
   },
   "outputs": [],
   "source": [
    "smallest_positions = longs_purchased.nsmallest(10, [\"PositionSize\"])\n",
    "print(\"\\nTop 10 Smallest Purchased Positions:\")\n",
    "smallest_positions[columns_of_interest]"
   ]
  },
  {
   "cell_type": "code",
   "execution_count": null,
   "id": "2749227a-ed53-4e64-9f3f-1adeccdc5b31",
   "metadata": {
    "tags": []
   },
   "outputs": [],
   "source": [
    "avg_duration_purchased = longs_purchased['Duration'].mean()\n",
    "avg_duration_not_purchased = longs[longs['Purchased'] == 0]['Duration'].mean()\n",
    "max_duration_purchased = longs_purchased['Duration'].max()\n",
    "\n",
    "print(f\"Average duration for purchased positions: {avg_duration_purchased:.2f} days\")\n",
    "print(f\"Average duration for not purchased positions: {avg_duration_not_purchased:.2f} days\")\n",
    "print(f\"Max duration for purchased positions: {max_duration_purchased:.2f} days\")\n",
    "\n",
    "longest_duration = longs_purchased.nlargest(20, [\"Duration\"])\n",
    "print(\"\\nTop 20 Longest to Open Positions:\")\n",
    "longest_duration[columns_of_interest]"
   ]
  },
  {
   "cell_type": "code",
   "execution_count": null,
   "id": "443410c8-6ca7-4ab9-8ef8-23b3b379c33d",
   "metadata": {
    "tags": []
   },
   "outputs": [],
   "source": [
    "avg_stop_loss_all = longs['StopPricePct'].mean()\n",
    "avg_stop_loss_purchased = longs_purchased['StopPricePct'].mean()\n",
    "avg_stop_loss_not_purchased = longs[longs['Purchased'] == 0]['StopPricePct'].mean()\n",
    "\n",
    "print(f\"Average stop loss for all positions: {avg_stop_loss_all:.2f}\")\n",
    "print(f\"Average stop loss for purchased positions: {avg_stop_loss_purchased:.2f}\")\n",
    "print(f\"Average stop loss for not purchased positions: {avg_stop_loss_not_purchased:.2f}\")"
   ]
  },
  {
   "cell_type": "code",
   "execution_count": null,
   "id": "36ff509c-5251-4c07-92e6-cf7210984739",
   "metadata": {},
   "outputs": [],
   "source": [
    "print(\"Analyzing stop loss amount, this looks very inconsistent to me\")\n",
    "\n",
    "print(f'Average size of stop loss amount for longs: {longs[\"StopLossAmount\"].mean():.2f}')\n",
    "print(f'Max stop loss amount: {longs[\"StopLossAmount\"].max():.2f}')\n",
    "print(f'Min stop loss amount: {longs[\"StopLossAmount\"].min():.2f}')\n",
    "\n",
    "longs['rolling_average_size'] = longs[\"StopLossAmount\"].rolling(window=30).mean()\n",
    "\n",
    "import matplotlib.pyplot as plt\n",
    "import seaborn as sns\n",
    "\n",
    "plt.figure(figsize=(12, 6))\n",
    "sns.lineplot(data=longs, x='Created', y='rolling_average_size')\n",
    "plt.title('Rolling Average Size of Stop Loss Amount Over Time')\n",
    "plt.xlabel('Date')\n",
    "plt.ylabel('Average Stop Loss Amount')\n",
    "plt.show()\n",
    "\n",
    "# Plot the distribution of position sizes\n",
    "plt.figure(figsize=(12, 6))\n",
    "sns.histplot(longs[\"StopLossAmount\"], bins=30, kde=True)\n",
    "plt.title('Distribution of Stop Loss Amounts')\n",
    "plt.xlabel('Stop Loss Amount')\n",
    "plt.ylabel('Frequency')\n",
    "plt.show()\n",
    "\n",
    "# plot the distribution of purchased position sizes\n",
    "plt.figure(figsize=(12, 6))\n",
    "sns.histplot(longs_purchased[\"StopLossAmount\"], bins=30, kde=True)\n",
    "plt.title('Distribution of Stop Loss Amount of Purchased Positions')\n",
    "plt.xlabel('Stop Loss Amount')\n",
    "plt.ylabel('Frequency')\n",
    "plt.show()"
   ]
  },
  {
   "cell_type": "code",
   "execution_count": null,
   "id": "7db12ed8-378d-4838-bf34-42a93c8eca81",
   "metadata": {
    "tags": []
   },
   "outputs": [],
   "source": [
    "largest_by_stop_loss_amount = longs_purchased.nsmallest(20, [\"StopLossAmount\"])\n",
    "\n",
    "print(\"Positions sorted by stop loss amount\")\n",
    "largest_by_stop_loss_amount[columns_of_interest]"
   ]
  },
  {
   "cell_type": "code",
   "execution_count": null,
   "id": "17c91b72-fd30-44c8-b665-4dabb7a72604",
   "metadata": {
    "tags": []
   },
   "outputs": [],
   "source": [
    "smallest_by_stop_loss_amount = longs_purchased.nlargest(20, [\"StopLossAmount\"])\n",
    "\n",
    "print(\"Purchased positions sorted by stop loss amount ascending\")\n",
    "smallest_by_stop_loss_amount[columns_of_interest]"
   ]
  },
  {
   "cell_type": "code",
   "execution_count": null,
   "id": "11692bea-a08b-41c2-821f-f52eaf812f8e",
   "metadata": {},
   "outputs": [],
   "source": []
  }
 ],
 "metadata": {
  "kernelspec": {
   "display_name": "Python 3 (ipykernel)",
   "language": "python",
   "name": "python3"
  },
  "language_info": {
   "codemirror_mode": {
    "name": "ipython",
    "version": 3
   },
   "file_extension": ".py",
   "mimetype": "text/x-python",
   "name": "python",
   "nbconvert_exporter": "python",
   "pygments_lexer": "ipython3",
   "version": "3.11.5"
  }
 },
 "nbformat": 4,
 "nbformat_minor": 5
}
