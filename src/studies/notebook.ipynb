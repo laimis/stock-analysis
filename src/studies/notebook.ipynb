{
 "cells": [
  {
   "cell_type": "code",
   "execution_count": 2,
   "id": "72d7f6a2",
   "metadata": {},
   "outputs": [
    {
     "data": {
      "text/html": [
       "<div><div></div><div></div><div><strong>Installed Packages</strong><ul><li><span>FSharp.Data, 6.3.0</span></li><li><span>Plotly.NET.Interactive, 4.2.1</span></li></ul></div></div>"
      ]
     },
     "metadata": {},
     "output_type": "display_data"
    },
    {
     "data": {
      "text/plain": [
       "Loading extensions from `C:\\Users\\laimi\\.nuget\\packages\\plotly.net.interactive\\4.2.1\\lib\\netstandard2.1\\Plotly.NET.Interactive.dll`"
      ]
     },
     "metadata": {},
     "output_type": "display_data"
    }
   ],
   "source": [
    "#r \"./bin/Debug/net7.0/studies.dll\"\n",
    "#r \"./bin/Debug/net7.0/core.fs.dll\"\n",
    "#r \"nuget:FSharp.Data\"\n",
    "#r \"nuget: Plotly.NET.Interactive\""
   ]
  },
  {
   "cell_type": "code",
   "execution_count": 2,
   "id": "1f16ad2e",
   "metadata": {},
   "outputs": [],
   "source": [
    "open FSharp.Data\n",
    "open Plotly.NET\n",
    "\n",
    "let trade_csv = \"d:\\\\studies\\\\03_export_date_ticker_screenerid_gap_outcomes.csv\"\n",
    "\n",
    "let csv = studies.GapStudy.parseTradeOutcomes trade_csv"
   ]
  },
  {
   "cell_type": "code",
   "execution_count": 3,
   "id": "cb544b7b",
   "metadata": {},
   "outputs": [],
   "source": [
    "let outputSummary includeChart (summary:studies.Types.TradeSummary) = \n",
    "\n",
    "    printfn \"%s: %i trades, %.2f%% win pct, %.2f%% avg gain, %.2f%% avg loss, %.2f avg gain/loss, %.2f EV\" \n",
    "        summary.StrategyName summary.Total (summary.WinPct * 100m) (summary.AvgWin) (summary.AvgLoss) summary.AvgGainLoss summary.EV\n",
    "\n",
    "    match includeChart with\n",
    "    | true ->\n",
    "        let chart = \n",
    "            Chart.Histogram(\n",
    "                X = summary.Gains,\n",
    "                NBinsX = 40,\n",
    "                Name = \"Gain Distribution\"\n",
    "            )\n",
    "\n",
    "        chart.Display() |> ignore\n",
    "    | false -> ()"
   ]
  },
  {
   "cell_type": "code",
   "execution_count": 4,
   "id": "32a85654",
   "metadata": {},
   "outputs": [
    {
     "name": "stdout",
     "output_type": "stream",
     "text": [
      "Trade: All\n",
      "Buy and Hold 5 bars: 22848 trades, 50.28% win pct, 7.40% avg gain, -6.87% avg loss, 1.08 avg gain/loss, 0.30 EV\n",
      "Buy and Hold 10 bars: 22848 trades, 49.16% win pct, 9.15% avg gain, -9.07% avg loss, 1.01 avg gain/loss, -0.12 EV\n",
      "Buy and Hold 30 bars: 22848 trades, 45.54% win pct, 14.08% avg gain, -14.67% avg loss, 0.96 avg gain/loss, -1.58 EV\n",
      "Buy and Hold 60 bars: 22848 trades, 44.82% win pct, 18.24% avg gain, -18.96% avg loss, 0.96 avg gain/loss, -2.29 EV\n",
      "Buy and Hold 90 bars: 22848 trades, 44.18% win pct, 20.46% avg gain, -21.37% avg loss, 0.96 avg gain/loss, -2.89 EV\n",
      "Buy and Hold: 22848 trades, 43.08% win pct, 29.77% avg gain, -30.46% avg loss, 0.98 avg gain/loss, -4.52 EV\n",
      "\n",
      "\n",
      "Trade: New Highs\n",
      "Buy and Hold 5 bars: 8692 trades, 47.95% win pct, 4.57% avg gain, -4.50% avg loss, 1.02 avg gain/loss, -0.15 EV\n",
      "Buy and Hold 10 bars: 8692 trades, 48.48% win pct, 5.86% avg gain, -6.27% avg loss, 0.94 avg gain/loss, -0.38 EV\n",
      "Buy and Hold 30 bars: 8692 trades, 45.38% win pct, 9.53% avg gain, -10.26% avg loss, 0.93 avg gain/loss, -1.28 EV\n",
      "Buy and Hold 60 bars: 8692 trades, 44.04% win pct, 12.53% avg gain, -13.96% avg loss, 0.90 avg gain/loss, -2.29 EV\n",
      "Buy and Hold 90 bars: 8692 trades, 45.11% win pct, 14.83% avg gain, -15.75% avg loss, 0.94 avg gain/loss, -1.96 EV\n",
      "Buy and Hold: 8692 trades, 49.00% win pct, 23.13% avg gain, -20.78% avg loss, 1.11 avg gain/loss, 0.74 EV\n",
      "\n",
      "\n",
      "Trade: Top Gainers\n",
      "Buy and Hold 5 bars: 14156 trades, 51.72% win pct, 9.01% avg gain, -8.45% avg loss, 1.07 avg gain/loss, 0.58 EV\n",
      "Buy and Hold 10 bars: 14156 trades, 49.58% win pct, 11.12% avg gain, -10.83% avg loss, 1.03 avg gain/loss, 0.05 EV\n",
      "Buy and Hold 30 bars: 14156 trades, 45.65% win pct, 16.86% avg gain, -17.40% avg loss, 0.97 avg gain/loss, -1.76 EV\n",
      "Buy and Hold 60 bars: 14156 trades, 45.30% win pct, 21.64% avg gain, -22.10% avg loss, 0.98 avg gain/loss, -2.29 EV\n",
      "Buy and Hold 90 bars: 14156 trades, 43.61% win pct, 24.04% avg gain, -24.73% avg loss, 0.97 avg gain/loss, -3.46 EV\n",
      "Buy and Hold: 14156 trades, 39.44% win pct, 34.83% avg gain, -35.46% avg loss, 0.98 avg gain/loss, -7.74 EV\n",
      "\n",
      "\n",
      "Trade: Gap ups\n",
      "Buy and Hold 5 bars: 6447 trades, 50.71% win pct, 6.86% avg gain, -6.09% avg loss, 1.13 avg gain/loss, 0.48 EV\n",
      "Buy and Hold 10 bars: 6447 trades, 50.81% win pct, 8.37% avg gain, -7.91% avg loss, 1.06 avg gain/loss, 0.36 EV\n",
      "Buy and Hold 30 bars: 6447 trades, 47.70% win pct, 12.93% avg gain, -12.97% avg loss, 1.00 avg gain/loss, -0.62 EV\n",
      "Buy and Hold 60 bars: 6447 trades, 48.18% win pct, 17.06% avg gain, -16.88% avg loss, 1.01 avg gain/loss, -0.53 EV\n",
      "Buy and Hold 90 bars: 6447 trades, 46.36% win pct, 18.85% avg gain, -18.88% avg loss, 1.00 avg gain/loss, -1.39 EV\n",
      "Buy and Hold: 6447 trades, 45.37% win pct, 29.44% avg gain, -26.64% avg loss, 1.11 avg gain/loss, -1.20 EV\n",
      "\n",
      "\n",
      "Trade: Gap ups - new highs\n",
      "Buy and Hold 5 bars: 1737 trades, 48.42% win pct, 4.91% avg gain, -4.16% avg loss, 1.18 avg gain/loss, 0.23 EV\n",
      "Buy and Hold 10 bars: 1737 trades, 49.45% win pct, 5.90% avg gain, -5.65% avg loss, 1.04 avg gain/loss, 0.06 EV\n",
      "Buy and Hold 30 bars: 1737 trades, 46.69% win pct, 9.78% avg gain, -9.38% avg loss, 1.04 avg gain/loss, -0.43 EV\n",
      "Buy and Hold 60 bars: 1737 trades, 45.60% win pct, 12.39% avg gain, -13.17% avg loss, 0.94 avg gain/loss, -1.52 EV\n",
      "Buy and Hold 90 bars: 1737 trades, 45.83% win pct, 15.28% avg gain, -15.24% avg loss, 1.00 avg gain/loss, -1.26 EV\n",
      "Buy and Hold: 1737 trades, 48.42% win pct, 24.00% avg gain, -18.99% avg loss, 1.26 avg gain/loss, 1.82 EV\n",
      "\n",
      "\n",
      "Trade: Gap ups - top gainers\n",
      "Buy and Hold 5 bars: 4710 trades, 51.55% win pct, 7.54% avg gain, -6.84% avg loss, 1.10 avg gain/loss, 0.57 EV\n",
      "Buy and Hold 10 bars: 4710 trades, 51.32% win pct, 9.25% avg gain, -8.78% avg loss, 1.05 avg gain/loss, 0.47 EV\n",
      "Buy and Hold 30 bars: 4710 trades, 48.07% win pct, 14.06% avg gain, -14.34% avg loss, 0.98 avg gain/loss, -0.69 EV\n",
      "Buy and Hold 60 bars: 4710 trades, 49.13% win pct, 18.65% avg gain, -18.34% avg loss, 1.02 avg gain/loss, -0.17 EV\n",
      "Buy and Hold 90 bars: 4710 trades, 46.56% win pct, 20.14% avg gain, -20.24% avg loss, 1.00 avg gain/loss, -1.44 EV\n",
      "Buy and Hold: 4710 trades, 44.25% win pct, 31.64% avg gain, -29.24% avg loss, 1.08 avg gain/loss, -2.31 EV\n",
      "\n",
      "\n"
     ]
    }
   ],
   "source": [
    "let filterNamePairs = [\n",
    "    (\"All\", fun (o:studies.Types.TradeOutcomeOutput.Row) -> true)\n",
    "    (\"New Highs\", fun (o:studies.Types.TradeOutcomeOutput.Row) -> o.Screenerid = 28)\n",
    "    (\"Top Gainers\", fun (o:studies.Types.TradeOutcomeOutput.Row) -> o.Screenerid = 29)\n",
    "    (\"Gap ups\", fun (o:studies.Types.TradeOutcomeOutput.Row) -> o.HasGapUp)\n",
    "    (\"Gap ups - new highs\", fun (o:studies.Types.TradeOutcomeOutput.Row) -> o.HasGapUp && o.Screenerid = 28)\n",
    "    (\"Gap ups - top gainers\", fun (o:studies.Types.TradeOutcomeOutput.Row) -> o.HasGapUp && o.Screenerid = 29)\n",
    "]\n",
    "\n",
    "let tradesGroupedByStrategy = csv |> Seq.groupBy (fun t -> t.Strategy) // all strategies, no filters\n",
    "\n",
    "filterNamePairs\n",
    "|> Seq.iter (\n",
    "    fun (filterName,filter) ->\n",
    "\n",
    "        printfn $\"Trade: {filterName}\"\n",
    "        tradesGroupedByStrategy\n",
    "        |> Seq.iter (\n",
    "            fun (strategy, trades) ->\n",
    "                let filteredTrades = trades |> Seq.filter filter\n",
    "                let summary = studies.Types.TradeSummary.create filteredTrades\n",
    "                outputSummary false summary\n",
    "        )\n",
    "\n",
    "        printfn \"\"\n",
    "        printfn \"\"\n",
    ")"
   ]
  },
  {
   "cell_type": "code",
   "execution_count": 5,
   "id": "3fc0e4fb",
   "metadata": {},
   "outputs": [
    {
     "name": "stdout",
     "output_type": "stream",
     "text": [
      "Top 5 by: EV\n",
      "Strategy: Buy and Hold, Filter: Gap ups - new highs: 1.822461023902737286555059309\n",
      "Strategy: Buy and Hold, Filter: New Highs: 0.736784720611110804648903637\n",
      "Strategy: Buy and Hold 5 bars, Filter: Top Gainers: 0.5825484022408140426570786786\n",
      "Strategy: Buy and Hold 5 bars, Filter: Gap ups - top gainers: 0.5698105391586863628178409871\n",
      "Strategy: Buy and Hold 5 bars, Filter: Gap ups: 0.4783539464164832646621860451\n",
      "\n",
      "\n",
      "Top 5 by: Win %\n",
      "Strategy: Buy and Hold 5 bars, Filter: Top Gainers: 0.5171658660638598474145238768\n",
      "Strategy: Buy and Hold 5 bars, Filter: Gap ups - top gainers: 0.5154989384288747346072186837\n",
      "Strategy: Buy and Hold 10 bars, Filter: Gap ups - top gainers: 0.5131634819532908704883227176\n",
      "Strategy: Buy and Hold 10 bars, Filter: Gap ups: 0.5081433224755700325732899023\n",
      "Strategy: Buy and Hold 5 bars, Filter: Gap ups: 0.507057546145494028230184582\n",
      "\n",
      "\n",
      "Top 5 by: Avg Gain\n",
      "Strategy: Buy and Hold, Filter: Gap ups - new highs: 1.2635946275090736548676078349\n",
      "Strategy: Buy and Hold 5 bars, Filter: Gap ups - new highs: 1.1807839066612831050592861028\n",
      "Strategy: Buy and Hold 5 bars, Filter: Gap ups: 1.1271896768135483314382913946\n",
      "Strategy: Buy and Hold, Filter: New Highs: 1.1132156498600392497630170687\n",
      "Strategy: Buy and Hold, Filter: Gap ups: 1.1052089662949335264823380469\n",
      "\n",
      "\n"
     ]
    }
   ],
   "source": [
    "let data =\n",
    "    filterNamePairs\n",
    "    |> Seq.map (fun (filterName, filter) ->\n",
    "        tradesGroupedByStrategy\n",
    "        |> Seq.map (fun (strategy, trades) ->\n",
    "            let filteredTrades = trades |> Seq.filter filter\n",
    "            let summary = studies.Types.TradeSummary.create filteredTrades\n",
    "            (strategy, filterName, summary)\n",
    "        )\n",
    "    )\n",
    "    |> Seq.concat\n",
    "\n",
    "let sortFunctions = [\n",
    "    (\"EV\", fun (t:studies.Types.TradeSummary) -> t.EV)\n",
    "    (\"Win %\", fun (t:studies.Types.TradeSummary) -> t.WinPct)\n",
    "    (\"Avg Gain\", fun (t:studies.Types.TradeSummary) -> t.AvgGainLoss)\n",
    "]\n",
    "\n",
    "sortFunctions\n",
    "|> Seq.iter (fun (sortLabel, sortFunction) ->\n",
    "    printfn $\"Top 5 by: {sortLabel}\"\n",
    "    data\n",
    "    |> Seq.sortByDescending (fun (strategy, filterName, summary) -> sortFunction summary)\n",
    "    |> Seq.take 5\n",
    "    |> Seq.iter (fun (strategy, filterName, summary) ->\n",
    "        printfn $\"Strategy: {strategy}, Filter: {filterName}: {sortFunction summary}\"\n",
    "    )\n",
    "    printfn \"\"\n",
    "    printfn \"\"\n",
    ")"
   ]
  },
  {
   "cell_type": "code",
   "execution_count": 2,
   "id": "047ececc",
   "metadata": {},
   "outputs": [
    {
     "data": {
      "text/html": [
       "<div><div></div><div></div><div><strong>Installed Packages</strong><ul><li><span>FSharp.Data, 6.3.0</span></li><li><span>Plotly.NET.Interactive, 4.2.1</span></li></ul></div></div>"
      ]
     },
     "metadata": {},
     "output_type": "display_data"
    }
   ],
   "source": [
    "#r \"./bin/Debug/net7.0/studies.dll\"\n",
    "#r \"./bin/Debug/net7.0/core.fs.dll\"\n",
    "#r \"nuget:FSharp.Data\"\n",
    "#r \"nuget: Plotly.NET.Interactive\""
   ]
  },
  {
   "cell_type": "code",
   "execution_count": 9,
   "id": "c326bceb",
   "metadata": {},
   "outputs": [],
   "source": [
    "let studiesDirectory = \"d:\\\\studies\"\n",
    "let signalPath = \"d:\\\\studies\\\\02_export_date_ticker_screenerid_gap.csv\"\n",
    "let priceFunc = studies.DataHelpers.getPricesFromCsv studiesDirectory\n",
    "\n",
    "let runStrategies strategies = async {\n",
    "    let! signalsWithPrices = studies.Trading.prepareSignalsForTradeSimulations signalPath priceFunc\n",
    "    \n",
    "    return! studies.Trading.runTrades signalsWithPrices strategies\n",
    "}"
   ]
  },
  {
   "cell_type": "code",
   "execution_count": 11,
   "id": "9aa30048",
   "metadata": {},
   "outputs": [
    {
     "name": "stdout",
     "output_type": "stream",
     "text": [
      "Records: 23520, dates: 423, tickers: 3164, screenerIds: 2\n",
      "Minimum date: 3/22/2022 12:00:00 AM\n",
      "Maximum date: 11/13/2023 12:00:00 AM\n",
      "\n",
      "Ensured that data has prices\n",
      "Records: 22848, dates: 412, tickers: 3153, screenerIds: 2\n",
      "Minimum date: 3/22/2022 12:00:00 AM\n",
      "Maximum date: 11/13/2023 12:00:00 AM\n",
      "\n",
      "Executing trades...\n",
      "Finished running trades, generated:\n",
      "22848 trade outcomes\n"
     ]
    }
   ],
   "source": [
    "let strategies = \n",
    "        [\n",
    "            studies.TradingStrategies.buyAndHoldStrategy (Some 5)\n",
    "            studies.TradingStrategies.buyAndHoldStrategy (Some 10)\n",
    "            studies.TradingStrategies.buyAndHoldStrategy (Some 30)\n",
    "            studies.TradingStrategies.buyAndHoldStrategy (Some 60)\n",
    "            studies.TradingStrategies.buyAndHoldStrategy (Some 90)\n",
    "            studies.TradingStrategies.buyAndHoldStrategy None\n",
    "        ]\n",
    "\n",
    "let outcomes = \n",
    "    strategies\n",
    "    |> runStrategies\n",
    "    |> Async.RunSynchronously\n",
    "\n",
    "printfn \"Finished running trades, generated:\"\n",
    "printfn $\"{outcomes |> Seq.length} trade outcomes\""
   ]
  },
  {
   "cell_type": "code",
   "execution_count": null,
   "id": "70b415b8",
   "metadata": {},
   "outputs": [],
   "source": []
  }
 ],
 "metadata": {
  "kernelspec": {
   "display_name": ".NET (F#)",
   "language": "F#",
   "name": ".net-fsharp"
  },
  "language_info": {
   "file_extension": ".fs",
   "mimetype": "text/x-fsharp",
   "name": "F#",
   "pygments_lexer": "fsharp",
   "version": "7.0"
  }
 },
 "nbformat": 4,
 "nbformat_minor": 5
}
