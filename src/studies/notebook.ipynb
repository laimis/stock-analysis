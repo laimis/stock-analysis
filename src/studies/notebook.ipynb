{
 "cells": [
  {
   "cell_type": "code",
   "execution_count": 2,
   "id": "72d7f6a2",
   "metadata": {},
   "outputs": [
    {
     "data": {
      "text/html": [
       "<div><div></div><div></div><div><strong>Installed Packages</strong><ul><li><span>FSharp.Data, 6.3.0</span></li><li><span>Plotly.NET.Interactive, 4.2.1</span></li></ul></div></div>"
      ]
     },
     "metadata": {},
     "output_type": "display_data"
    }
   ],
   "source": [
    "#r \"./bin/Debug/net7.0/studies.dll\"\n",
    "#r \"./bin/Debug/net7.0/core.fs.dll\"\n",
    "#r \"nuget:FSharp.Data\"\n",
    "#r \"nuget: Plotly.NET.Interactive\""
   ]
  },
  {
   "cell_type": "code",
   "execution_count": 3,
   "id": "1f16ad2e",
   "metadata": {},
   "outputs": [],
   "source": [
    "open FSharp.Data\n",
    "open Plotly.NET\n",
    "\n",
    "let trade_csv = \"d:\\\\studies\\\\03_export_date_ticker_screenerid_gap_outcomes.csv\"\n",
    "\n",
    "let csv = studies.GapStudy.parseTradeOutcomes trade_csv"
   ]
  },
  {
   "cell_type": "code",
   "execution_count": 4,
   "id": "cb544b7b",
   "metadata": {},
   "outputs": [],
   "source": [
    "let outputSummary includeChart (summary:studies.Types.TradeSummary) = \n",
    "\n",
    "    printfn \"%s: %i trades, %.2f%% win pct, %.2f%% avg gain, %.2f%% avg loss, %.2f avg gain/loss, %.2f EV\" \n",
    "        summary.StrategyName summary.Total (summary.WinPct * 100m) (summary.AvgWin) (summary.AvgLoss) summary.AvgGainLoss summary.EV\n",
    "\n",
    "    match includeChart with\n",
    "    | true ->\n",
    "        let chart = \n",
    "            Chart.Histogram(\n",
    "                X = summary.Gains,\n",
    "                NBinsX = 40,\n",
    "                Name = \"Gain Distribution\"\n",
    "            )\n",
    "\n",
    "        chart.Display() |> ignore\n",
    "    | false -> ()"
   ]
  },
  {
   "cell_type": "code",
   "execution_count": 23,
   "id": "32a85654",
   "metadata": {},
   "outputs": [],
   "source": [
    "let filterNamePairs = [\n",
    "        (\"All\", fun (o:studies.Types.TradeOutcomeOutput.Row) -> true)\n",
    "        (\"New Highs\", fun (o:studies.Types.TradeOutcomeOutput.Row) -> o.Screenerid = 28)\n",
    "        (\"Top Gainers\", fun (o:studies.Types.TradeOutcomeOutput.Row) -> o.Screenerid = 29)\n",
    "        (\"Gap ups\", fun (o:studies.Types.TradeOutcomeOutput.Row) -> o.HasGapUp)\n",
    "        (\"Gap ups - new highs\", fun (o:studies.Types.TradeOutcomeOutput.Row) -> o.HasGapUp && o.Screenerid = 28)\n",
    "        (\"Gap ups - top gainers\", fun (o:studies.Types.TradeOutcomeOutput.Row) -> o.HasGapUp && o.Screenerid = 29)\n",
    "    ]\n",
    "    \n",
    "let describeOutcomes outcomes =\n",
    "    \n",
    "    let tradesGroupedByStrategy = outcomes |> Seq.groupBy (fun (t:studies.Types.TradeOutcomeOutput.Row) -> t.Strategy) // all strategies, no filters\n",
    "\n",
    "    filterNamePairs\n",
    "    |> Seq.iter (\n",
    "        fun (filterName,filter) ->\n",
    "\n",
    "            printfn $\"Trade: {filterName}\"\n",
    "            tradesGroupedByStrategy\n",
    "            |> Seq.iter (\n",
    "                fun (strategy, trades) ->\n",
    "                    let filteredTrades = trades |> Seq.filter filter\n",
    "                    let summary = studies.Types.TradeSummary.create filteredTrades\n",
    "                    outputSummary false summary\n",
    "            )\n",
    "\n",
    "            printfn \"\"\n",
    "            printfn \"\"\n",
    "    )\n",
    "    \n",
    "let highlightStrategies outcomes =\n",
    "    \n",
    "    let tradesGroupedByStrategy = outcomes |> Seq.groupBy (fun (t:studies.Types.TradeOutcomeOutput.Row) -> t.Strategy)\n",
    "    \n",
    "    let data =\n",
    "        filterNamePairs\n",
    "        |> Seq.map (fun (filterName, filter) ->\n",
    "            tradesGroupedByStrategy\n",
    "            |> Seq.map (fun (strategy, trades) ->\n",
    "                let filteredTrades = trades |> Seq.filter filter\n",
    "                let summary = studies.Types.TradeSummary.create filteredTrades\n",
    "                (strategy, filterName, summary)\n",
    "            )\n",
    "        )\n",
    "        |> Seq.concat\n",
    "\n",
    "    let sortFunctions = [\n",
    "        (\"EV\", fun (t:studies.Types.TradeSummary) -> t.EV)\n",
    "        (\"Win %\", fun (t:studies.Types.TradeSummary) -> t.WinPct)\n",
    "        (\"Avg Gain\", fun (t:studies.Types.TradeSummary) -> t.AvgGainLoss)\n",
    "    ]\n",
    "\n",
    "    sortFunctions\n",
    "    |> Seq.iter (fun (sortLabel, sortFunction) ->\n",
    "        printfn $\"Top 5 by: {sortLabel}\"\n",
    "        data\n",
    "        |> Seq.sortByDescending (fun (strategy, filterName, summary) -> sortFunction summary)\n",
    "        |> Seq.take 5\n",
    "        |> Seq.iter (fun (strategy, filterName, summary) ->\n",
    "            printfn $\"Strategy: {strategy}, Filter: {filterName}: {sortFunction summary}\"\n",
    "        )\n",
    "        printfn \"\"\n",
    "        printfn \"\"\n",
    "    )"
   ]
  },
  {
   "cell_type": "code",
   "execution_count": 6,
   "id": "3fc0e4fb",
   "metadata": {},
   "outputs": [
    {
     "name": "stdout",
     "output_type": "stream",
     "text": [
      "Top 5 by: EV\n",
      "Strategy: Buy and Hold, Filter: Gap ups - new highs: 1.822461023902737286555059309\n",
      "Strategy: Buy and Hold, Filter: New Highs: 0.736784720611110804648903637\n",
      "Strategy: Buy and Hold 5 bars, Filter: Top Gainers: 0.5825484022408140426570786786\n",
      "Strategy: Buy and Hold 5 bars, Filter: Gap ups - top gainers: 0.5698105391586863628178409871\n",
      "Strategy: Buy and Hold 5 bars, Filter: Gap ups: 0.4783539464164832646621860451\n",
      "\n",
      "\n",
      "Top 5 by: Win %\n",
      "Strategy: Buy and Hold 5 bars, Filter: Top Gainers: 0.5171658660638598474145238768\n",
      "Strategy: Buy and Hold 5 bars, Filter: Gap ups - top gainers: 0.5154989384288747346072186837\n",
      "Strategy: Buy and Hold 10 bars, Filter: Gap ups - top gainers: 0.5131634819532908704883227176\n",
      "Strategy: Buy and Hold 10 bars, Filter: Gap ups: 0.5081433224755700325732899023\n",
      "Strategy: Buy and Hold 5 bars, Filter: Gap ups: 0.507057546145494028230184582\n",
      "\n",
      "\n",
      "Top 5 by: Avg Gain\n",
      "Strategy: Buy and Hold, Filter: Gap ups - new highs: 1.2635946275090736548676078349\n",
      "Strategy: Buy and Hold 5 bars, Filter: Gap ups - new highs: 1.1807839066612831050592861028\n",
      "Strategy: Buy and Hold 5 bars, Filter: Gap ups: 1.1271896768135483314382913946\n",
      "Strategy: Buy and Hold, Filter: New Highs: 1.1132156498600392497630170687\n",
      "Strategy: Buy and Hold, Filter: Gap ups: 1.1052089662949335264823380469\n",
      "\n",
      "\n"
     ]
    }
   ],
   "source": []
  },
  {
   "cell_type": "code",
   "execution_count": 7,
   "id": "047ececc",
   "metadata": {},
   "outputs": [
    {
     "data": {
      "text/html": [
       "<div><div></div><div></div><div><strong>Installed Packages</strong><ul><li><span>FSharp.Data, 6.3.0</span></li><li><span>Plotly.NET.Interactive, 4.2.1</span></li></ul></div></div>"
      ]
     },
     "metadata": {},
     "output_type": "display_data"
    }
   ],
   "source": [
    "#r \"./bin/Debug/net7.0/studies.dll\"\n",
    "#r \"./bin/Debug/net7.0/core.fs.dll\"\n",
    "#r \"nuget:FSharp.Data\"\n",
    "#r \"nuget: Plotly.NET.Interactive\""
   ]
  },
  {
   "cell_type": "code",
   "execution_count": 8,
   "id": "c326bceb",
   "metadata": {},
   "outputs": [],
   "source": [
    "let studiesDirectory = \"d:\\\\studies\"\n",
    "let signalPath = \"d:\\\\studies\\\\02_export_date_ticker_screenerid_gap.csv\"\n",
    "let priceFunc = studies.DataHelpers.getPricesFromCsv studiesDirectory\n",
    "\n",
    "let runStrategies strategies = async {\n",
    "    let! signalsWithPrices = studies.Trading.prepareSignalsForTradeSimulations signalPath priceFunc\n",
    "    \n",
    "    return! studies.Trading.runTrades signalsWithPrices strategies\n",
    "}"
   ]
  },
  {
   "cell_type": "code",
   "execution_count": 9,
   "id": "9aa30048",
   "metadata": {},
   "outputs": [
    {
     "name": "stdout",
     "output_type": "stream",
     "text": [
      "Records: 23520, dates: 423, tickers: 3164, screenerIds: 2\n",
      "Minimum date: 3/22/2022 12:00:00 AM\n",
      "Maximum date: 11/13/2023 12:00:00 AM\n",
      "\n",
      "Ensured that data has prices\n",
      "Records: 22848, dates: 412, tickers: 3153, screenerIds: 2\n",
      "Minimum date: 3/22/2022 12:00:00 AM\n",
      "Maximum date: 11/13/2023 12:00:00 AM\n",
      "\n",
      "Executing trades...\n",
      "Finished running trades, generated:\n",
      "137088 trade outcomes\n"
     ]
    }
   ],
   "source": [
    "let strategies = \n",
    "        [\n",
    "            studies.TradingStrategies.buyAndHoldStrategy (Some 5)\n",
    "            studies.TradingStrategies.buyAndHoldStrategy (Some 10)\n",
    "            studies.TradingStrategies.buyAndHoldStrategy (Some 30)\n",
    "            studies.TradingStrategies.buyAndHoldStrategy (Some 60)\n",
    "            studies.TradingStrategies.buyAndHoldStrategy (Some 90)\n",
    "            studies.TradingStrategies.buyAndHoldStrategy None\n",
    "        ]\n",
    "\n",
    "let outcomes = \n",
    "    strategies\n",
    "    |> runStrategies\n",
    "    |> Async.RunSynchronously\n",
    "\n",
    "printfn \"Finished running trades, generated:\"\n",
    "printfn $\"{outcomes |> Seq.length} trade outcomes\""
   ]
  },
  {
   "cell_type": "code",
   "execution_count": 17,
   "id": "70b415b8",
   "metadata": {},
   "outputs": [
    {
     "data": {
      "text/plain": [
       "Buy and Hold 5 bars: 3/23/2022 12:00:00 AM @ 16.73, 3/30/2022 12:00:00 AM @ 19.57: profit of 16.975493126120741183502689780"
      ]
     },
     "execution_count": 17,
     "metadata": {},
     "output_type": "execute_result"
    }
   ],
   "source": [
    "outcomes |> Seq.head |> fun x -> $\"{x.Strategy}: {x.Opened} @ {x.OpenPrice}, {x.Closed} @ {x.ClosePrice}: profit of {x.PercentGain}\""
   ]
  },
  {
   "cell_type": "code",
   "execution_count": 24,
   "id": "d81d65c9",
   "metadata": {},
   "outputs": [
    {
     "name": "stdout",
     "output_type": "stream",
     "text": [
      "Top 5 by: EV\n",
      "Strategy: Buy and Hold, Filter: Gap ups - new highs: 1.822461023902737286555059309\n",
      "Strategy: Buy and Hold, Filter: New Highs: 0.736784720611110804648903637\n",
      "Strategy: Buy and Hold 5 bars, Filter: Top Gainers: 0.5825484022408140426570786786\n",
      "Strategy: Buy and Hold 5 bars, Filter: Gap ups - top gainers: 0.5698105391586863628178409871\n",
      "Strategy: Buy and Hold 5 bars, Filter: Gap ups: 0.4783539464164832646621860451\n",
      "\n",
      "\n",
      "Top 5 by: Win %\n",
      "Strategy: Buy and Hold 5 bars, Filter: Top Gainers: 0.5171658660638598474145238768\n",
      "Strategy: Buy and Hold 5 bars, Filter: Gap ups - top gainers: 0.5154989384288747346072186837\n",
      "Strategy: Buy and Hold 10 bars, Filter: Gap ups - top gainers: 0.5131634819532908704883227176\n",
      "Strategy: Buy and Hold 10 bars, Filter: Gap ups: 0.5081433224755700325732899023\n",
      "Strategy: Buy and Hold 5 bars, Filter: Gap ups: 0.507057546145494028230184582\n",
      "\n",
      "\n",
      "Top 5 by: Avg Gain\n",
      "Strategy: Buy and Hold, Filter: Gap ups - new highs: 1.2635946275090736548676078349\n",
      "Strategy: Buy and Hold 5 bars, Filter: Gap ups - new highs: 1.1807839066612831050592861028\n",
      "Strategy: Buy and Hold 5 bars, Filter: Gap ups: 1.1271896768135483314382913946\n",
      "Strategy: Buy and Hold, Filter: New Highs: 1.1132156498600392497630170687\n",
      "Strategy: Buy and Hold, Filter: Gap ups: 1.1052089662949335264823380469\n",
      "\n",
      "\n"
     ]
    }
   ],
   "source": [
    "outcomes |> highlightStrategies"
   ]
  }
 ],
 "metadata": {
  "kernelspec": {
   "display_name": ".NET (F#)",
   "language": "F#",
   "name": ".net-fsharp"
  },
  "language_info": {
   "file_extension": ".fs",
   "mimetype": "text/x-fsharp",
   "name": "F#",
   "pygments_lexer": "fsharp",
   "version": "7.0"
  }
 },
 "nbformat": 4,
 "nbformat_minor": 5
}
